{
 "cells": [
  {
   "cell_type": "code",
   "execution_count": 5,
   "id": "e760394e",
   "metadata": {},
   "outputs": [
    {
     "name": "stdout",
     "output_type": "stream",
     "text": [
      "✅ frame_1.png resized and saved.\n",
      "✅ frame_2.png resized and saved.\n",
      "✅ frame_3.png resized and saved.\n",
      "✅ frame_4.png resized and saved.\n",
      "✅ frame_5.png resized and saved.\n",
      "✅ frame_6.png resized and saved.\n",
      "✅ frame_7.png resized and saved.\n",
      "✅ frame_8.png resized and saved.\n"
     ]
    }
   ],
   "source": [
    "from PIL import Image\n",
    "import os\n",
    "\n",
    "# 현재 작업 중인 폴더 (Jupyter, VSCode에서도 작동)\n",
    "current_dir = os.getcwd()\n",
    "\n",
    "# 리사이즈할 크기\n",
    "target_size = (50, 60)\n",
    "\n",
    "# 처리할 이미지 확장자\n",
    "valid_extensions = [\".png\", \".jpg\", \".jpeg\", \".bmp\"]\n",
    "\n",
    "# 현재 폴더의 모든 파일 순회\n",
    "for filename in os.listdir(current_dir):\n",
    "    ext = os.path.splitext(filename)[1].lower()\n",
    "    \n",
    "    if ext in valid_extensions:\n",
    "        file_path = os.path.join(current_dir, filename)\n",
    "        try:\n",
    "            with Image.open(file_path) as img:\n",
    "                resized_img = img.resize(target_size, Image.LANCZOS)\n",
    "                resized_img.save(file_path)\n",
    "                print(f\"✅ {filename} resized and saved.\")\n",
    "        except Exception as e:\n",
    "            print(f\"❌ Error processing {filename}: {e}\")\n"
   ]
  }
 ],
 "metadata": {
  "kernelspec": {
   "display_name": "Python 3",
   "language": "python",
   "name": "python3"
  },
  "language_info": {
   "codemirror_mode": {
    "name": "ipython",
    "version": 3
   },
   "file_extension": ".py",
   "mimetype": "text/x-python",
   "name": "python",
   "nbconvert_exporter": "python",
   "pygments_lexer": "ipython3",
   "version": "3.11.9"
  }
 },
 "nbformat": 4,
 "nbformat_minor": 5
}

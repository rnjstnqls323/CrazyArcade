{
 "cells": [
  {
   "cell_type": "code",
   "execution_count": 5,
   "id": "e760394e",
   "metadata": {},
   "outputs": [
    {
     "name": "stdout",
     "output_type": "stream",
     "text": [
      "✅ frame_1.png resized and saved.\n",
      "✅ frame_2.png resized and saved.\n",
      "✅ frame_3.png resized and saved.\n",
      "✅ frame_4.png resized and saved.\n",
      "✅ frame_5.png resized and saved.\n",
      "✅ frame_6.png resized and saved.\n",
      "✅ frame_7.png resized and saved.\n",
      "✅ frame_8.png resized and saved.\n"
     ]
    }
   ],
   "source": [
    "from PIL import Image\n",
    "import os\n",
    "\n",
    "# 현재 작업 중인 폴더 (Jupyter, VSCode에서도 작동)\n",
    "current_dir = os.getcwd()\n",
    "\n",
    "# 리사이즈할 크기\n",
    "target_size = (50, 60)\n",
    "\n",
    "# 처리할 이미지 확장자\n",
    "valid_extensions = [\".png\", \".jpg\", \".jpeg\", \".bmp\"]\n",
    "\n",
    "# 현재 폴더의 모든 파일 순회\n",
    "for filename in os.listdir(current_dir):\n",
    "    ext = os.path.splitext(filename)[1].lower()\n",
    "    \n",
    "    if ext in valid_extensions:\n",
    "        file_path = os.path.join(current_dir, filename)\n",
    "        try:\n",
    "            with Image.open(file_path) as img:\n",
    "                resized_img = img.resize(target_size, Image.LANCZOS)\n",
    "                resized_img.save(file_path)\n",
    "                print(f\"✅ {filename} resized and saved.\")\n",
    "        except Exception as e:\n",
    "            print(f\"❌ Error processing {filename}: {e}\")\n"
   ]
  },
  {
   "cell_type": "code",
   "execution_count": 1,
   "id": "eb110cad",
   "metadata": {},
   "outputs": [
    {
     "name": "stdout",
     "output_type": "stream",
     "text": [
      "3개의 이미지로 저장 완료! → 'custom_bubble_95_slices' 폴더에 있음.\n"
     ]
    }
   ],
   "source": [
    "from PIL import Image\n",
    "import os\n",
    "\n",
    "def split_image_horizontally(filename, cols):\n",
    "    # 이미지 열기\n",
    "    try:\n",
    "        image = Image.open(filename)\n",
    "    except FileNotFoundError:\n",
    "        print(\"파일을 찾을 수 없습니다.\")\n",
    "        return\n",
    "\n",
    "    width, height = image.size\n",
    "    piece_width = width // cols\n",
    "\n",
    "    basename = os.path.splitext(os.path.basename(filename))[0]\n",
    "    output_folder = f\"{basename}_slices\"\n",
    "\n",
    "    # 출력 폴더 생성\n",
    "    if not os.path.exists(output_folder):\n",
    "        os.makedirs(output_folder)\n",
    "\n",
    "    for i in range(cols):\n",
    "        left = i * piece_width\n",
    "        right = left + piece_width\n",
    "        box = (left, 0, right, height)\n",
    "\n",
    "        cropped_image = image.crop(box)\n",
    "        output_path = os.path.join(output_folder, f\"{basename}_{i}.png\")\n",
    "        cropped_image.save(output_path)\n",
    "\n",
    "    print(f\"{cols}개의 이미지로 저장 완료! → '{output_folder}' 폴더에 있음.\")\n",
    "\n",
    "# 실행 예시\n",
    "if __name__ == \"__main__\":\n",
    "    filename = input(\"PNG 파일 이름을 입력하세요 (예: myimage.png): \")\n",
    "    cols = int(input(\"가로로 자를 개수를 입력하세요: \"))\n",
    "    split_image_horizontally(filename, cols)"
   ]
  }
 ],
 "metadata": {
  "kernelspec": {
   "display_name": "Python 3",
   "language": "python",
   "name": "python3"
  },
  "language_info": {
   "codemirror_mode": {
    "name": "ipython",
    "version": 3
   },
   "file_extension": ".py",
   "mimetype": "text/x-python",
   "name": "python",
   "nbconvert_exporter": "python",
   "pygments_lexer": "ipython3",
   "version": "3.11.9"
  }
 },
 "nbformat": 4,
 "nbformat_minor": 5
}

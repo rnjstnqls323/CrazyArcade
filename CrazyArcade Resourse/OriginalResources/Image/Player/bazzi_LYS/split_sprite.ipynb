{
 "cells": [
  {
   "cell_type": "code",
   "execution_count": 7,
   "id": "7a0835df-5d54-42b4-b1e7-b1888bfb6db0",
   "metadata": {},
   "outputs": [
    {
     "name": "stdout",
     "output_type": "stream",
     "text": [
      "프레임 1 저장 완료: bazzi_idle\\frame_1.png\n",
      "프레임 2 저장 완료: bazzi_idle\\frame_2.png\n",
      "프레임 3 저장 완료: bazzi_idle\\frame_3.png\n",
      "\n",
      "총 3개의 프레임을 \"bazzi_idle\" 폴더에 저장했습니다.\n"
     ]
    }
   ],
   "source": [
    "from PIL import Image\n",
    "import os\n",
    "\n",
    "# 가로로 자르는거\n",
    "def split_sprite_horizontal(image_path, parts, output_folder='bazzi_idle'):\n",
    "    # 출력 폴더 생성\n",
    "    os.makedirs(output_folder, exist_ok=True)\n",
    "\n",
    "    # 이미지 열기\n",
    "    img = Image.open(image_path)\n",
    "    width, height = img.size\n",
    "\n",
    "    # 한 조각의 가로 길이 계산 (정수로)\n",
    "    frame_width = width // parts\n",
    "\n",
    "    for i in range(parts):\n",
    "        left = i * frame_width\n",
    "        right = (i + 1) * frame_width if i != parts - 1 else width  # 마지막 조각은 남은 폭 전부\n",
    "\n",
    "        # 이미지 자르기\n",
    "        frame = img.crop((left, 0, right, height))\n",
    "\n",
    "        # 저장 경로\n",
    "        output_path = os.path.join(output_folder, f'frame_{i + 1}.png')\n",
    "        frame.save(output_path)\n",
    "\n",
    "        print(f'프레임 {i + 1} 저장 완료: {output_path}')\n",
    "\n",
    "    print(f'\\n총 {parts}개의 프레임을 \"{output_folder}\" 폴더에 저장했습니다.')\n",
    "\n",
    "if __name__ == \"__main__\":\n",
    "    image_path = input(\"스프라이트 이미지 경로를 입력하세요: \").strip()\n",
    "    parts = int(input(\"몇 조각으로 나눌까요? (숫자 입력): \"))\n",
    "\n",
    "    split_sprite_horizontal(image_path, parts)"
   ]
  },
  {
   "cell_type": "code",
   "execution_count": null,
   "id": "afbecb7b",
   "metadata": {},
   "outputs": [],
   "source": [
    "from PIL import Image\n",
    "import os\n",
    "\n",
    "# 세로로 자르기\n",
    "def split_sprite_vertical(image_path, parts, output_folder='output_frames_vertical'):\n",
    "    os.makedirs(output_folder, exist_ok=True)\n",
    "\n",
    "    img = Image.open(image_path)\n",
    "    width, height = img.size\n",
    "\n",
    "    frame_height = height // parts\n",
    "\n",
    "    for i in range(parts):\n",
    "        upper = i * frame_height\n",
    "        lower = (i + 1) * frame_height if i != parts - 1 else height  # 마지막 조각은 남은 부분 전체\n",
    "\n",
    "        frame = img.crop((0, upper, width, lower))\n",
    "\n",
    "        output_path = os.path.join(output_folder, f'frame_{i + 1}.png')\n",
    "        frame.save(output_path)\n",
    "\n",
    "        print(f'프레임 {i + 1} 저장 완료: {output_path}')\n",
    "\n",
    "    print(f'\\n총 {parts}개의 프레임을 \"{output_folder}\" 폴더에 저장했습니다.')\n",
    "\n",
    "if __name__ == \"__main__\":\n",
    "    image_path = input(\"스프라이트 이미지 경로를 입력하세요: \").strip()\n",
    "    parts = int(input(\"몇 조각으로 나눌까요? (숫자 입력): \"))\n",
    "\n",
    "    split_sprite_vertical(image_path, parts)"
   ]
  }
 ],
 "metadata": {
  "kernelspec": {
   "display_name": "Python 3",
   "language": "python",
   "name": "python3"
  },
  "language_info": {
   "codemirror_mode": {
    "name": "ipython",
    "version": 3
   },
   "file_extension": ".py",
   "mimetype": "text/x-python",
   "name": "python",
   "nbconvert_exporter": "python",
   "pygments_lexer": "ipython3",
   "version": "3.12.2"
  }
 },
 "nbformat": 4,
 "nbformat_minor": 5
}

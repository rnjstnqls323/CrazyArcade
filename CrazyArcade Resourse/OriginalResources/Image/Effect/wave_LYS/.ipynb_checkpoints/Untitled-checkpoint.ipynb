{
 "cells": [
  {
   "cell_type": "code",
   "execution_count": 1,
   "id": "7a0835df-5d54-42b4-b1e7-b1888bfb6db0",
   "metadata": {},
   "outputs": [
    {
     "name": "stdout",
     "output_type": "stream",
     "text": [
      "변환 완료: down1.bmp → down1.png\n",
      "변환 완료: down2.bmp → down2.png\n",
      "변환 완료: left1.bmp → left1.png\n",
      "변환 완료: left2.bmp → left2.png\n",
      "변환 완료: right1.bmp → right1.png\n",
      "변환 완료: right2.bmp → right2.png\n",
      "변환 완료: up1.bmp → up1.png\n",
      "변환 완료: up2.bmp → up2.png\n"
     ]
    }
   ],
   "source": []
  },
  {
   "cell_type": "code",
   "execution_count": 9,
   "id": "d5ffad44-0a06-425b-b15c-bb6c33158ea3",
   "metadata": {},
   "outputs": [
    {
     "name": "stdout",
     "output_type": "stream",
     "text": [
      "변환 및 투명 처리 완료: down1.bmp → down1.png\n",
      "변환 및 투명 처리 완료: down2.bmp → down2.png\n",
      "변환 및 투명 처리 완료: left1.bmp → left1.png\n",
      "변환 및 투명 처리 완료: left2.bmp → left2.png\n",
      "변환 및 투명 처리 완료: right1.bmp → right1.png\n",
      "변환 및 투명 처리 완료: right2.bmp → right2.png\n",
      "변환 및 투명 처리 완료: up1.bmp → up1.png\n",
      "변환 및 투명 처리 완료: up2.bmp → up2.png\n"
     ]
    }
   ],
   "source": [
    "import os\n",
    "from PIL import Image\n",
    "\n",
    "folder_path = '.'  # 변환할 이미지가 있는 폴더\n",
    "\n",
    "target_color = (255, 0, 255)  # 투명하게 바꿀 핑크색 RGB\n",
    "\n",
    "for filename in os.listdir(folder_path):\n",
    "    if filename.lower().endswith('.bmp'):\n",
    "        bmp_path = os.path.join(folder_path, filename)\n",
    "        png_filename = filename.rsplit('.', 1)[0] + '.png'\n",
    "        png_path = os.path.join(folder_path, png_filename)\n",
    "\n",
    "        try:\n",
    "            img = Image.open(bmp_path).convert(\"RGBA\")  # RGBA로 변환\n",
    "\n",
    "            datas = img.getdata()\n",
    "            new_data = []\n",
    "\n",
    "            for item in datas:\n",
    "                # RGB 값이 target_color(핑크)이면 알파 0 (투명)\n",
    "                if item[:3] == target_color:\n",
    "                    new_data.append((255, 255, 255, 0))  # 투명 처리\n",
    "                else:\n",
    "                    new_data.append(item)\n",
    "\n",
    "            img.putdata(new_data)\n",
    "            img.save(png_path)\n",
    "            print(f\"변환 및 투명 처리 완료: {filename} → {png_filename}\")\n",
    "        except Exception as e:\n",
    "            print(f\"변환 실패: {filename} ({e})\")"
   ]
  },
  {
   "cell_type": "code",
   "execution_count": null,
   "id": "341eb23c-65dd-485d-b24d-787a8bca8f27",
   "metadata": {},
   "outputs": [],
   "source": []
  }
 ],
 "metadata": {
  "kernelspec": {
   "display_name": "Python [conda env:base] *",
   "language": "python",
   "name": "conda-base-py"
  },
  "language_info": {
   "codemirror_mode": {
    "name": "ipython",
    "version": 3
   },
   "file_extension": ".py",
   "mimetype": "text/x-python",
   "name": "python",
   "nbconvert_exporter": "python",
   "pygments_lexer": "ipython3",
   "version": "3.12.7"
  }
 },
 "nbformat": 4,
 "nbformat_minor": 5
}

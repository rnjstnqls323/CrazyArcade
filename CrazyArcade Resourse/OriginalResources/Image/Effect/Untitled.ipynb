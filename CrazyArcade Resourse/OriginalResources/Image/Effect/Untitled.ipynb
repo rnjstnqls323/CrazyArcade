{
 "cells": [
  {
   "cell_type": "code",
   "execution_count": 1,
   "id": "7a0835df-5d54-42b4-b1e7-b1888bfb6db0",
   "metadata": {},
   "outputs": [
    {
     "name": "stdout",
     "output_type": "stream",
     "text": [
      "변환 완료: down1.bmp → down1.png\n",
      "변환 완료: down2.bmp → down2.png\n",
      "변환 완료: left1.bmp → left1.png\n",
      "변환 완료: left2.bmp → left2.png\n",
      "변환 완료: right1.bmp → right1.png\n",
      "변환 완료: right2.bmp → right2.png\n",
      "변환 완료: up1.bmp → up1.png\n",
      "변환 완료: up2.bmp → up2.png\n"
     ]
    }
   ],
   "source": []
  },
  {
   "cell_type": "code",
   "execution_count": 7,
   "id": "d5ffad44-0a06-425b-b15c-bb6c33158ea3",
   "metadata": {},
   "outputs": [
    {
     "name": "stdout",
     "output_type": "stream",
     "text": [
      "변환 및 투명 처리 완료: unit_npc146.bmp → unit_npc146.png\n"
     ]
    }
   ],
   "source": [
    "import os\n",
    "from PIL import Image\n",
    "\n",
    "folder_path = '.'  # 변환할 이미지가 있는 폴더\n",
    "\n",
    "target_color = (255, 0, 255)  # 투명하게 바꿀 핑크색 RGB\n",
    "\n",
    "for filename in os.listdir(folder_path):\n",
    "    if filename.lower().endswith('.bmp'):\n",
    "        bmp_path = os.path.join(folder_path, filename)\n",
    "        png_filename = filename.rsplit('.', 1)[0] + '.png'\n",
    "        png_path = os.path.join(folder_path, png_filename)\n",
    "\n",
    "        try:\n",
    "            img = Image.open(bmp_path).convert(\"RGBA\")  # RGBA로 변환\n",
    "\n",
    "            datas = img.getdata()\n",
    "            new_data = []\n",
    "\n",
    "            for item in datas:\n",
    "                # RGB 값이 target_color(핑크)이면 알파 0 (투명)\n",
    "                if item[:3] == target_color:\n",
    "                    new_data.append((255, 255, 255, 0))  # 투명 처리\n",
    "                else:\n",
    "                    new_data.append(item)\n",
    "\n",
    "            img.putdata(new_data)\n",
    "            img.save(png_path)\n",
    "            print(f\"변환 및 투명 처리 완료: {filename} → {png_filename}\")\n",
    "        except Exception as e:\n",
    "            print(f\"변환 실패: {filename} ({e})\")"
   ]
  },
  {
   "cell_type": "code",
   "execution_count": 6,
   "id": "341eb23c-65dd-485d-b24d-787a8bca8f27",
   "metadata": {},
   "outputs": [
    {
     "name": "stdout",
     "output_type": "stream",
     "text": [
      "Collecting Pillow\n",
      "  Downloading pillow-11.2.1-cp312-cp312-win_amd64.whl.metadata (9.1 kB)\n",
      "Downloading pillow-11.2.1-cp312-cp312-win_amd64.whl (2.7 MB)\n",
      "   ---------------------------------------- 0.0/2.7 MB ? eta -:--:--\n",
      "   ---------------------------------------- 0.0/2.7 MB 660.6 kB/s eta 0:00:05\n",
      "   - -------------------------------------- 0.1/2.7 MB 1.3 MB/s eta 0:00:02\n",
      "   -- ------------------------------------- 0.2/2.7 MB 1.7 MB/s eta 0:00:02\n",
      "   ---- ----------------------------------- 0.3/2.7 MB 1.7 MB/s eta 0:00:02\n",
      "   ----- ---------------------------------- 0.4/2.7 MB 1.8 MB/s eta 0:00:02\n",
      "   ------ --------------------------------- 0.5/2.7 MB 1.8 MB/s eta 0:00:02\n",
      "   -------- ------------------------------- 0.6/2.7 MB 1.8 MB/s eta 0:00:02\n",
      "   --------- ------------------------------ 0.6/2.7 MB 1.8 MB/s eta 0:00:02\n",
      "   --------- ------------------------------ 0.6/2.7 MB 1.8 MB/s eta 0:00:02\n",
      "   --------- ------------------------------ 0.6/2.7 MB 1.4 MB/s eta 0:00:02\n",
      "   ----------- ---------------------------- 0.7/2.7 MB 1.5 MB/s eta 0:00:02\n",
      "   ----------- ---------------------------- 0.7/2.7 MB 1.5 MB/s eta 0:00:02\n",
      "   ----------- ---------------------------- 0.7/2.7 MB 1.5 MB/s eta 0:00:02\n",
      "   ----------- ---------------------------- 0.7/2.7 MB 1.5 MB/s eta 0:00:02\n",
      "   ------------ --------------------------- 0.8/2.7 MB 1.2 MB/s eta 0:00:02\n",
      "   ------------- -------------------------- 0.9/2.7 MB 1.3 MB/s eta 0:00:02\n",
      "   --------------- ------------------------ 1.0/2.7 MB 1.3 MB/s eta 0:00:02\n",
      "   ----------------- ---------------------- 1.2/2.7 MB 1.4 MB/s eta 0:00:02\n",
      "   ------------------- -------------------- 1.3/2.7 MB 1.5 MB/s eta 0:00:01\n",
      "   ---------------------- ----------------- 1.5/2.7 MB 1.6 MB/s eta 0:00:01\n",
      "   ------------------------ --------------- 1.6/2.7 MB 1.7 MB/s eta 0:00:01\n",
      "   -------------------------- ------------- 1.8/2.7 MB 1.8 MB/s eta 0:00:01\n",
      "   ---------------------------- ----------- 1.9/2.7 MB 1.8 MB/s eta 0:00:01\n",
      "   ------------------------------ --------- 2.0/2.7 MB 1.9 MB/s eta 0:00:01\n",
      "   -------------------------------- ------- 2.2/2.7 MB 1.9 MB/s eta 0:00:01\n",
      "   ---------------------------------- ----- 2.3/2.7 MB 1.9 MB/s eta 0:00:01\n",
      "   ------------------------------------ --- 2.5/2.7 MB 2.0 MB/s eta 0:00:01\n",
      "   -------------------------------------- - 2.6/2.7 MB 2.0 MB/s eta 0:00:01\n",
      "   ---------------------------------------- 2.7/2.7 MB 2.0 MB/s eta 0:00:00\n",
      "Installing collected packages: Pillow\n",
      "Successfully installed Pillow-11.2.1\n",
      "Note: you may need to restart the kernel to use updated packages.\n"
     ]
    },
    {
     "name": "stderr",
     "output_type": "stream",
     "text": [
      "\n",
      "[notice] A new release of pip is available: 24.0 -> 25.1.1\n",
      "[notice] To update, run: python.exe -m pip install --upgrade pip\n"
     ]
    }
   ],
   "source": [
    "pip install Pillow"
   ]
  }
 ],
 "metadata": {
  "kernelspec": {
   "display_name": "Python 3",
   "language": "python",
   "name": "python3"
  },
  "language_info": {
   "codemirror_mode": {
    "name": "ipython",
    "version": 3
   },
   "file_extension": ".py",
   "mimetype": "text/x-python",
   "name": "python",
   "nbconvert_exporter": "python",
   "pygments_lexer": "ipython3",
   "version": "3.12.2"
  }
 },
 "nbformat": 4,
 "nbformat_minor": 5
}
